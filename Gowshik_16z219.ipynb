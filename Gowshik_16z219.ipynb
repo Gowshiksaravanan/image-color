{
  "nbformat": 4,
  "nbformat_minor": 0,
  "metadata": {
    "kernelspec": {
      "display_name": "Python 3",
      "language": "python",
      "name": "python3"
    },
    "language_info": {
      "codemirror_mode": {
        "name": "ipython",
        "version": 3
      },
      "file_extension": ".py",
      "mimetype": "text/x-python",
      "name": "python",
      "nbconvert_exporter": "python",
      "pygments_lexer": "ipython3",
      "version": "3.7.3"
    },
    "colab": {
      "name": "Gowshik-16z219.ipynb",
      "version": "0.3.2",
      "provenance": []
    }
  },
  "cells": [
    {
      "cell_type": "code",
      "metadata": {
        "id": "ND8gtothCpKE",
        "colab_type": "code",
        "colab": {}
      },
      "source": [
        "import cv2\n",
        "import numpy as np\n",
        "image=cv2.imread('C:\\\\Users\\\\gowshik\\\\Downloads\\\\9.jpg',10)\n",
        "#cv2.imshow(\"original\",image)\n",
        "#cv2.waitKey(0)"
      ],
      "execution_count": 0,
      "outputs": []
    },
    {
      "cell_type": "code",
      "metadata": {
        "id": "GeDK9-EoCpKP",
        "colab_type": "code",
        "colab": {}
      },
      "source": [
        "boundaries = [\n",
        "\t([17, 15, 100], [50, 56, 200]),\n",
        "    ( [18,50,50], [35,255,255]),\n",
        "\t([86, 31, 4], [220, 88, 50]),\n",
        "\t([25, 146, 190], [62, 174, 250]),\n",
        "\t([103, 86, 65], [145, 133, 128])\n",
        "    \n",
        "]\n"
      ],
      "execution_count": 0,
      "outputs": []
    },
    {
      "cell_type": "code",
      "metadata": {
        "id": "eUulWpSvCpKU",
        "colab_type": "code",
        "colab": {}
      },
      "source": [
        "for (lower,upper) in boundaries:\n",
        "    lower=np.array(lower,dtype=\"uint8\")\n",
        "    upper=np.array(upper,dtype=\"uint8\")\n",
        "    mask=cv2.inRange(image,lower,upper)\n",
        "    output=cv2.bitwise_and(image,image,mask=mask)\n",
        "    cv2.imshow(\"mask\",mask)\n",
        "    cv2.imshow(\"images\",np.hstack([image,output]))\n",
        "    cv2.waitKey(0)"
      ],
      "execution_count": 0,
      "outputs": []
    },
    {
      "cell_type": "code",
      "metadata": {
        "id": "dql4AdILCpKY",
        "colab_type": "code",
        "colab": {}
      },
      "source": [
        ""
      ],
      "execution_count": 0,
      "outputs": []
    }
  ]
}